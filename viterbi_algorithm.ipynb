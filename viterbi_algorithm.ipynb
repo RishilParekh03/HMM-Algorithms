{
 "cells": [
  {
   "metadata": {},
   "cell_type": "markdown",
   "source": [
    "Implementation of Viterbi algorithm for addressing the decoding problem in Hidden Markov\n",
    "Models"
   ],
   "id": "fdf8e87f6cdbceb0"
  },
  {
   "metadata": {
    "ExecuteTime": {
     "end_time": "2024-09-29T09:53:11.367617Z",
     "start_time": "2024-09-29T09:53:11.202964Z"
    }
   },
   "cell_type": "code",
   "source": "import numpy as np",
   "id": "333400ed080c2d61",
   "outputs": [],
   "execution_count": 1
  },
  {
   "metadata": {},
   "cell_type": "markdown",
   "source": "Declare States and Observables",
   "id": "68cada8539abfe64"
  },
  {
   "metadata": {
    "ExecuteTime": {
     "end_time": "2024-09-29T09:57:36.217522Z",
     "start_time": "2024-09-29T09:57:36.201898Z"
    }
   },
   "cell_type": "code",
   "source": [
    "state = ['Fair', 'Biased']  # Hidden State\n",
    "obs = ['Tails', 'Tails', 'Head', 'Tails']  # Observation Sequence\n",
    "pi = [0.6, 0.4]  # Initial Probabilities\n",
    "A = np.array([[0.7, 0.3], [0.4, 0.6]])  # Transition Probabilities\n",
    "b = np.array(([0.5, 0.5, 0.5, 0.5], [0.2, 0.2, 0.8, 0.2])) # Emission Probabilities\n",
    "\n",
    "viterbi_var = np.zeros((len(state), len(obs)))\n",
    "sai = np.zeros((len(state), len(obs) + 1), dtype=int)\n",
    "\n",
    "observables = [0]  # Observable count\n",
    "\n",
    "print(f\"Hidden State: {state}\")\n",
    "print(f\"Observation Sequence: {obs}\\n\")\n",
    "print(f\"Initial Probabilities: {pi}\\n\")\n",
    "print(f\"Transition Probabilities:\\n{A}\\n\")\n",
    "print(f\"Emission Probabilities:\\n{b}\\n\")\n",
    "print(f\"Sai Array:\\n{sai}\\n\")"
   ],
   "id": "729e46452b0969e9",
   "outputs": [
    {
     "name": "stdout",
     "output_type": "stream",
     "text": [
      "Hidden State: ['Fair', 'Biased']\n",
      "Observation Sequence: ['Tails', 'Tails', 'Head', 'Tails']\n",
      "\n",
      "Initial Probabilities: [0.6, 0.4]\n",
      "\n",
      "Transition Probabilities:\n",
      "[[0.7 0.3]\n",
      " [0.4 0.6]]\n",
      "\n",
      "Emission Probabilities:\n",
      "[[0.5 0.5 0.5 0.5]\n",
      " [0.2 0.2 0.8 0.2]]\n",
      "\n",
      "Sai Array:\n",
      "[[0 0 0 0 0]\n",
      " [0 0 0 0 0]]\n",
      "\n"
     ]
    }
   ],
   "execution_count": 12
  },
  {
   "metadata": {
    "ExecuteTime": {
     "end_time": "2024-09-29T09:57:52.112799Z",
     "start_time": "2024-09-29T09:57:52.083648Z"
    }
   },
   "cell_type": "code",
   "source": [
    "# Viterbi Initialization\n",
    "def initialization():\n",
    "    for i in range(len(state)):\n",
    "        pi_i = pi[i]\n",
    "        b_i = b[i, 0]\n",
    "        at_i = pi_i * b_i\n",
    "\n",
    "        viterbi_var[i, observables[0]] = at_i\n",
    "        sai[i, observables[0]] = 0\n",
    "    observables[0] += 1"
   ],
   "id": "1a3e0fbba2e5d302",
   "outputs": [],
   "execution_count": 13
  },
  {
   "metadata": {
    "ExecuteTime": {
     "end_time": "2024-09-29T09:57:52.582430Z",
     "start_time": "2024-09-29T09:57:52.566810Z"
    }
   },
   "cell_type": "code",
   "source": [
    "initialization()\n",
    "\n",
    "print(f\"Viterbi Variables:\\n{viterbi_var}\\n\")\n",
    "print(f\"Sai Array:\\n{sai}\")"
   ],
   "id": "93104b202ed0a096",
   "outputs": [
    {
     "name": "stdout",
     "output_type": "stream",
     "text": [
      "Viterbi Variables:\n",
      "[[0.3  0.   0.   0.  ]\n",
      " [0.08 0.   0.   0.  ]]\n",
      "\n",
      "Sai Array:\n",
      "[[0 0 0 0 0]\n",
      " [0 0 0 0 0]]\n"
     ]
    }
   ],
   "execution_count": 14
  },
  {
   "metadata": {
    "ExecuteTime": {
     "end_time": "2024-09-29T09:57:57.180223Z",
     "start_time": "2024-09-29T09:57:57.148978Z"
    }
   },
   "cell_type": "code",
   "source": [
    "# Viterbi Recursion\n",
    "def recursion():\n",
    "    temp_res = []\n",
    "    m, n = b.shape\n",
    "\n",
    "    for j in range(1, n):\n",
    "        for i in range(len(state)):\n",
    "            for k in range(len(state)):\n",
    "                at_j = viterbi_var[k, j - 1] * A[k, i]\n",
    "                temp_res.append(round(at_j, 7))\n",
    "\n",
    "            at_j = max(temp_res) * b[i, observables[0]]\n",
    "            viterbi_var[i, observables[0]] = at_j\n",
    "            sai[i, observables[0]] = np.argmax(temp_res)\n",
    "            temp_res.clear()\n",
    "\n",
    "        observables[0] += 1"
   ],
   "id": "1edcb5d894535061",
   "outputs": [],
   "execution_count": 15
  },
  {
   "metadata": {
    "ExecuteTime": {
     "end_time": "2024-09-29T09:57:57.906765Z",
     "start_time": "2024-09-29T09:57:57.896740Z"
    }
   },
   "cell_type": "code",
   "source": [
    "recursion()\n",
    "\n",
    "print(f\"Viterbi Variables:\\n{viterbi_var}\\n\")\n",
    "print(f\"Sai Array:\\n{sai}\")"
   ],
   "id": "7523f3def11ce54",
   "outputs": [
    {
     "name": "stdout",
     "output_type": "stream",
     "text": [
      "Viterbi Variables:\n",
      "[[0.3       0.105     0.03675   0.0128625]\n",
      " [0.08      0.018     0.0252    0.003024 ]]\n",
      "\n",
      "Sai Array:\n",
      "[[0 0 0 0 0]\n",
      " [0 0 0 1 0]]\n"
     ]
    }
   ],
   "execution_count": 16
  },
  {
   "metadata": {
    "ExecuteTime": {
     "end_time": "2024-09-29T09:58:10.816975Z",
     "start_time": "2024-09-29T09:58:10.801351Z"
    }
   },
   "cell_type": "code",
   "source": [
    "# Viterbi Termination\n",
    "def termination():\n",
    "    temp = []\n",
    "    \n",
    "    for i in range(len(state)):\n",
    "        at_i = viterbi_var[i, -1]\n",
    "        temp.append(at_i)\n",
    "        \n",
    "        sai[i, observables[0]] = np.argmax(temp)\n",
    "    max_viterbi = max(temp)\n",
    "    temp.clear()\n",
    "\n",
    "    return max_viterbi"
   ],
   "id": "99378570bcbdf37e",
   "outputs": [],
   "execution_count": 17
  },
  {
   "metadata": {
    "ExecuteTime": {
     "end_time": "2024-09-29T09:58:11.430009Z",
     "start_time": "2024-09-29T09:58:11.414095Z"
    }
   },
   "cell_type": "code",
   "source": [
    "max_viterbi_val = termination()\n",
    "\n",
    "print(f\"Viterbi Variables:\\n{viterbi_var}\\n\")\n",
    "print(f\"Maximized Viterbi Variables: {round(max_viterbi_val, 7)}\\n\")\n",
    "print(f\"Sai Array:\\n{sai}\")"
   ],
   "id": "f7e33c18dfa40e67",
   "outputs": [
    {
     "name": "stdout",
     "output_type": "stream",
     "text": [
      "Viterbi Variables:\n",
      "[[0.3       0.105     0.03675   0.0128625]\n",
      " [0.08      0.018     0.0252    0.003024 ]]\n",
      "\n",
      "Maximized Viterbi Variables: 0.0128625\n",
      "\n",
      "Sai Array:\n",
      "[[0 0 0 0 0]\n",
      " [0 0 0 1 0]]\n"
     ]
    }
   ],
   "execution_count": 18
  },
  {
   "metadata": {
    "ExecuteTime": {
     "end_time": "2024-09-29T09:58:18.778026Z",
     "start_time": "2024-09-29T09:58:18.762385Z"
    }
   },
   "cell_type": "code",
   "source": [
    "# Backtracking to find Hidden State Sequence\n",
    "def backtrack():\n",
    "    best_path = np.zeros(len(obs), dtype=int)\n",
    "    best_path_seq = []\n",
    "    \n",
    "    best_path[-1] = sai[0, observables[0]]\n",
    "\n",
    "    for i in range(observables[0] - 2, -1, -1):\n",
    "        best_path[i] = sai[best_path[i + 1], i + 1]\n",
    "        \n",
    "    for j in best_path:\n",
    "        best_path_seq.append(state[j])\n",
    "    \n",
    "    return best_path_seq"
   ],
   "id": "3ed6ebca98b21b00",
   "outputs": [],
   "execution_count": 19
  },
  {
   "metadata": {
    "ExecuteTime": {
     "end_time": "2024-09-29T09:58:19.168793Z",
     "start_time": "2024-09-29T09:58:19.153153Z"
    }
   },
   "cell_type": "code",
   "source": [
    "hidden_state_seq = backtrack()\n",
    "print(f\"Hidden State Sequence: \\n{hidden_state_seq}\\n\")"
   ],
   "id": "1fde6155ba2b08ee",
   "outputs": [
    {
     "name": "stdout",
     "output_type": "stream",
     "text": [
      "Hidden State Sequence: \n",
      "['Fair', 'Fair', 'Fair', 'Fair']\n",
      "\n"
     ]
    }
   ],
   "execution_count": 20
  }
 ],
 "metadata": {
  "kernelspec": {
   "display_name": "Python 3",
   "language": "python",
   "name": "python3"
  },
  "language_info": {
   "codemirror_mode": {
    "name": "ipython",
    "version": 2
   },
   "file_extension": ".py",
   "mimetype": "text/x-python",
   "name": "python",
   "nbconvert_exporter": "python",
   "pygments_lexer": "ipython2",
   "version": "2.7.6"
  }
 },
 "nbformat": 4,
 "nbformat_minor": 5
}
