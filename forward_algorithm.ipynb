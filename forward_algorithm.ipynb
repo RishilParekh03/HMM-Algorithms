{
 "cells": [
  {
   "metadata": {},
   "cell_type": "markdown",
   "source": [
    "Implementation of forward algorithm for addressing the likelihood problem in Hidden Markov\n",
    "Models"
   ],
   "id": "a7f4cd5e49439eee"
  },
  {
   "cell_type": "code",
   "id": "initial_id",
   "metadata": {
    "collapsed": true,
    "ExecuteTime": {
     "end_time": "2024-10-06T07:27:38.883191Z",
     "start_time": "2024-10-06T07:27:38.753119Z"
    }
   },
   "source": "import numpy as np",
   "outputs": [],
   "execution_count": 1
  },
  {
   "metadata": {},
   "cell_type": "markdown",
   "source": "Declare States and Observables",
   "id": "7015a9c0c959e0f4"
  },
  {
   "metadata": {
    "ExecuteTime": {
     "end_time": "2024-10-06T07:28:03.713758Z",
     "start_time": "2024-10-06T07:28:03.698118Z"
    }
   },
   "cell_type": "code",
   "source": [
    "state = ['Sunny', 'Rainy']  # Hidden State\n",
    "obs = ['Paint', 'Clean', 'Shop', 'Bike']  # Observation Sequence\n",
    "pi = [0.6, 0.4]  # Initial Probabilities\n",
    "A = np.array([[0.8, 0.2], [0.4, 0.6]])  # Transition Probabilities\n",
    "b = np.array(([0.4, 0.1, 0.2, 0.3], [0.3, 0.45, 0.2, 0.05]))  # Emission Probabilities\n",
    "\n",
    "forward_var = np.zeros((len(state), len(obs)))\n",
    "\n",
    "observables = [0]  # Observable count\n",
    "\n",
    "print(f\"Hidden State: {state}\")\n",
    "print(f\"Observation Sequence: {obs}\\n\")\n",
    "print(f\"Initial Probabilities: {pi}\\n\")\n",
    "print(f\"Transition Probabilities:\\n{A}\\n\")\n",
    "print(f\"Emission Probabilities:\\n{b}\\n\")"
   ],
   "id": "c8fe58e146322e2c",
   "outputs": [
    {
     "name": "stdout",
     "output_type": "stream",
     "text": [
      "Hidden State: ['Sunny', 'Rainy']\n",
      "Observation Sequence: ['Paint', 'Clean', 'Shop', 'Bike']\n",
      "\n",
      "Initial Probabilities: [0.6, 0.4]\n",
      "\n",
      "Transition Probabilities:\n",
      "[[0.8 0.2]\n",
      " [0.4 0.6]]\n",
      "\n",
      "Emission Probabilities:\n",
      "[[0.4  0.1  0.2  0.3 ]\n",
      " [0.3  0.45 0.2  0.05]]\n",
      "\n"
     ]
    }
   ],
   "execution_count": 16
  },
  {
   "metadata": {
    "ExecuteTime": {
     "end_time": "2024-10-06T07:28:03.855329Z",
     "start_time": "2024-10-06T07:28:03.848317Z"
    }
   },
   "cell_type": "code",
   "source": [
    "# Forward Initialization\n",
    "def initialization():\n",
    "    for i in range(len(state)):\n",
    "        pi_i = pi[i]\n",
    "        b_i = b[i, 0]\n",
    "        at_i = pi_i * b_i\n",
    "\n",
    "        forward_var[i, observables[0]] = at_i\n",
    "    observables[0] += 1"
   ],
   "id": "dcb2a6e405b56d71",
   "outputs": [],
   "execution_count": 17
  },
  {
   "metadata": {
    "ExecuteTime": {
     "end_time": "2024-10-06T07:28:04.018379Z",
     "start_time": "2024-10-06T07:28:04.002757Z"
    }
   },
   "cell_type": "code",
   "source": [
    "initialization()\n",
    "\n",
    "print(f\"Forward Variables:\\n{forward_var}\\n\")"
   ],
   "id": "f4dbded5ba756331",
   "outputs": [
    {
     "name": "stdout",
     "output_type": "stream",
     "text": [
      "Forward Variables:\n",
      "[[0.24 0.   0.   0.  ]\n",
      " [0.12 0.   0.   0.  ]]\n",
      "\n"
     ]
    }
   ],
   "execution_count": 18
  },
  {
   "metadata": {
    "ExecuteTime": {
     "end_time": "2024-10-06T07:28:04.176372Z",
     "start_time": "2024-10-06T07:28:04.160639Z"
    }
   },
   "cell_type": "code",
   "source": [
    "# Forward Recursion\n",
    "def recursion():\n",
    "    temp_res = []\n",
    "    m, n = b.shape\n",
    "\n",
    "    for j in range(1, n):\n",
    "        for i in range(len(state)):\n",
    "            for k in range(len(state)):\n",
    "                at_j = forward_var[k, j - 1] * A[k, i]\n",
    "                temp_res.append(round(at_j, 7))\n",
    "            \n",
    "            at_j = sum(s * b[i, observables[0]] for s in temp_res)\n",
    "            forward_var[i, observables[0]] = at_j\n",
    "            temp_res.clear()\n",
    "\n",
    "        observables[0] += 1"
   ],
   "id": "ae587d7283916f54",
   "outputs": [],
   "execution_count": 19
  },
  {
   "metadata": {
    "ExecuteTime": {
     "end_time": "2024-10-06T07:28:04.314931Z",
     "start_time": "2024-10-06T07:28:04.299319Z"
    }
   },
   "cell_type": "code",
   "source": [
    "recursion()\n",
    "\n",
    "print(f\"Forward Variables:\\n{forward_var}\\n\")"
   ],
   "id": "6a76d7cc570497a4",
   "outputs": [
    {
     "name": "stdout",
     "output_type": "stream",
     "text": [
      "Forward Variables:\n",
      "[[0.24      0.024     0.00816   0.0028512]\n",
      " [0.12      0.054     0.00744   0.0003048]]\n",
      "\n"
     ]
    }
   ],
   "execution_count": 20
  },
  {
   "metadata": {
    "ExecuteTime": {
     "end_time": "2024-10-06T07:28:04.469392Z",
     "start_time": "2024-10-06T07:28:04.453646Z"
    }
   },
   "cell_type": "code",
   "source": [
    "# Forward Termination\n",
    "def termination():\n",
    "    temp = []\n",
    "    \n",
    "    for i in range(len(state)):\n",
    "        at_i = forward_var[i, -1]\n",
    "        temp.append(at_i)\n",
    "        \n",
    "    p_o_lambda = sum(temp)\n",
    "    temp.clear()\n",
    "\n",
    "    return p_o_lambda"
   ],
   "id": "60631d71dfe597b9",
   "outputs": [],
   "execution_count": 21
  },
  {
   "metadata": {
    "ExecuteTime": {
     "end_time": "2024-10-06T07:28:04.727881Z",
     "start_time": "2024-10-06T07:28:04.712257Z"
    }
   },
   "cell_type": "code",
   "source": [
    "p_O_lambda = termination()\n",
    "\n",
    "print(f\"Forward Variables:\\n{forward_var}\\n\")\n",
    "print(f\"P(O|λ): {round(p_O_lambda, 7)}\\n\")"
   ],
   "id": "1022c1cc248d09ac",
   "outputs": [
    {
     "name": "stdout",
     "output_type": "stream",
     "text": [
      "Forward Variables:\n",
      "[[0.24      0.024     0.00816   0.0028512]\n",
      " [0.12      0.054     0.00744   0.0003048]]\n",
      "\n",
      "P(O|λ): 0.003156\n",
      "\n"
     ]
    }
   ],
   "execution_count": 22
  }
 ],
 "metadata": {
  "kernelspec": {
   "display_name": "Python 3",
   "language": "python",
   "name": "python3"
  },
  "language_info": {
   "codemirror_mode": {
    "name": "ipython",
    "version": 2
   },
   "file_extension": ".py",
   "mimetype": "text/x-python",
   "name": "python",
   "nbconvert_exporter": "python",
   "pygments_lexer": "ipython2",
   "version": "2.7.6"
  }
 },
 "nbformat": 4,
 "nbformat_minor": 5
}
